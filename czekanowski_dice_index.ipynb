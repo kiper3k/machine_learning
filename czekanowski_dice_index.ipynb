{
 "cells": [
  {
   "cell_type": "markdown",
   "metadata": {},
   "source": [
    "## Homework #2\n",
    "\n",
    "Implement the Czekanowski-Dice index. \n",
    "\n",
    "\\begin{equation}\n",
    "C=2\\frac{P\\times R}{R+R}.\n",
    "\\end{equation}\n",
    "Precision is defined as:\n",
    "\\begin{equation}\n",
    "PPV=\\frac{\\#TP}{\\#TP+\\#FP}.\n",
    "\\end{equation}\n",
    "Recall is defined as:\n",
    "\\begin{equation}\n",
    "TPR=\\frac{\\#TP}{\\#TP+\\#FN}.\n",
    "\\end{equation}"
   ]
  },
  {
   "cell_type": "code",
   "execution_count": null,
   "metadata": {},
   "outputs": [],
   "source": [
    "def czekanowski_dice_index(data_set,assignation,labels):\n",
    "    assigned_groups = []\n",
    "    for el in range(len(assignation)):\n",
    "        group_id = np.argmax(assignation[el])\n",
    "        assigned_groups.append(group_id)\n",
    "    # your code goes here:\n",
    "    groups = list(set(labels))\n",
    "    ppv = 0.\n",
    "    tpr = 0.\n",
    "    for group in groups:\n",
    "        tp = 0.\n",
    "        fp = 0.\n",
    "        fn = 0.\n",
    "        temp = [(pred, lab) for pred,lab in zip(assigned_groups, labels) if pred == group or lab == group]\n",
    "        for pred, lab in temp:\n",
    "            if pred == lab:\n",
    "                tp += 1.\n",
    "            elif pred == group:\n",
    "                fp += 1.\n",
    "            elif lab == group:\n",
    "                fn += 1.\n",
    "        ppv += tp/(tp+fp)\n",
    "        tpr += tp/(tp+fn)\n",
    "    \n",
    "    p = ppv/len(groups)\n",
    "    r = tpr/len(groups)\n",
    "    c = (2*p*r/(r+r))\n",
    "    return c\n",
    "        \n",
    "                \n",
    "            "
   ]
  }
 ],
 "metadata": {
  "kernelspec": {
   "display_name": "Python 3",
   "language": "python",
   "name": "python3"
  },
  "language_info": {
   "codemirror_mode": {
    "name": "ipython",
    "version": 3
   },
   "file_extension": ".py",
   "mimetype": "text/x-python",
   "name": "python",
   "nbconvert_exporter": "python",
   "pygments_lexer": "ipython3",
   "version": "3.6.5"
  }
 },
 "nbformat": 4,
 "nbformat_minor": 2
}
